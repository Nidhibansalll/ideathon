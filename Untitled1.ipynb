{
 "cells": [
  {
   "cell_type": "code",
   "execution_count": 2,
   "id": "44d1fdc6-4079-43c9-aa97-61c2a5aa0ae1",
   "metadata": {},
   "outputs": [
    {
     "name": "stdout",
     "output_type": "stream",
     "text": [
      "MAE: 7.02895\n",
      "RMSE: 8.22299157849502\n",
      "R² Score: 0.8834388430108585\n"
     ]
    },
    {
     "data": {
      "text/plain": [
       "['product_encoder.pkl']"
      ]
     },
     "execution_count": 2,
     "metadata": {},
     "output_type": "execute_result"
    }
   ],
   "source": [
    "import pandas as pd\n",
    "import numpy as np\n",
    "from sklearn.model_selection import train_test_split\n",
    "from sklearn.preprocessing import LabelEncoder\n",
    "from sklearn.ensemble import RandomForestRegressor\n",
    "from sklearn.metrics import mean_absolute_error, mean_squared_error, r2_score\n",
    "import joblib  # 🔥 for saving models\n",
    "\n",
    "# Load dataset\n",
    "df = pd.read_csv(\"Cleaned_Walmart_Stock_Analysis.csv\")\n",
    "\n",
    "# Preprocess\n",
    "df['Date'] = pd.to_datetime(df['Date'], format='%d-%m-%Y')\n",
    "df['City_encoder'] = LabelEncoder().fit_transform(df['City'])\n",
    "df['Product_encoder'] = LabelEncoder().fit_transform(df['Product line'])\n",
    "\n",
    "# Save the encoders (important if we use same logic later)\n",
    "city_encoder = LabelEncoder()\n",
    "product_encoder = LabelEncoder()\n",
    "df['City_encoded'] = city_encoder.fit_transform(df['City'])\n",
    "df['Product_encoded'] = product_encoder.fit_transform(df['Product line'])\n",
    "\n",
    "# Features and target\n",
    "X = df[['Year', 'Month', 'Day', 'Weekday', 'City_encoded', 'Product_encoded', 'Unit price', 'Quantity']]\n",
    "y = df['Predicted Quantity']\n",
    "\n",
    "# Split\n",
    "X_train, X_test, y_train, y_test = train_test_split(X, y, test_size=0.2, random_state=42)\n",
    "\n",
    "# Train\n",
    "model = RandomForestRegressor(n_estimators=100, random_state=42)\n",
    "model.fit(X_train, y_train)\n",
    "\n",
    "# Evaluate\n",
    "y_pred = model.predict(X_test)\n",
    "print(\"MAE:\", mean_absolute_error(y_test, y_pred))\n",
    "print(\"RMSE:\", np.sqrt(mean_squared_error(y_test, y_pred)))\n",
    "print(\"R² Score:\", r2_score(y_test, y_pred))\n",
    "\n",
    "# ✅ Save model and encoders\n",
    "joblib.dump(model, \"model.pkl\")\n",
    "joblib.dump(city_encoder, \"city_encoder.pkl\")\n",
    "joblib.dump(product_encoder, \"product_encoder.pkl\")\n"
   ]
  },
  {
   "cell_type": "code",
   "execution_count": 3,
   "id": "fe85c92c-ec93-428f-b50c-f0c23ece4ff6",
   "metadata": {},
   "outputs": [
    {
     "data": {
      "text/plain": [
       "['clean_city_encoder.pkl']"
      ]
     },
     "execution_count": 3,
     "metadata": {},
     "output_type": "execute_result"
    }
   ],
   "source": [
    "import joblib\n",
    "\n",
    "# Save the model and encoders safely\n",
    "joblib.dump(model, \"clean_model.pkl\")\n",
    "joblib.dump(LabelEncoder().fit(df['Product line']), \"clean_product_encoder.pkl\")\n",
    "joblib.dump(LabelEncoder().fit(df['City']), \"clean_city_encoder.pkl\")\n"
   ]
  },
  {
   "cell_type": "code",
   "execution_count": 4,
   "id": "5fd50331-8685-4844-beda-36b64780719b",
   "metadata": {},
   "outputs": [],
   "source": [
    "import joblib\n",
    "\n",
    "model = joblib.load(\"clean_model.pkl\")\n",
    "city_encoder = joblib.load(\"clean_city_encoder.pkl\")\n",
    "product_encoder = joblib.load(\"clean_product_encoder.pkl\")\n"
   ]
  },
  {
   "cell_type": "code",
   "execution_count": null,
   "id": "8eaf6ea5-b2a6-4c77-ab33-9a19c23b97b1",
   "metadata": {},
   "outputs": [],
   "source": []
  }
 ],
 "metadata": {
  "kernelspec": {
   "display_name": "Python 3 (ipykernel)",
   "language": "python",
   "name": "python3"
  },
  "language_info": {
   "codemirror_mode": {
    "name": "ipython",
    "version": 3
   },
   "file_extension": ".py",
   "mimetype": "text/x-python",
   "name": "python",
   "nbconvert_exporter": "python",
   "pygments_lexer": "ipython3",
   "version": "3.12.2"
  }
 },
 "nbformat": 4,
 "nbformat_minor": 5
}
